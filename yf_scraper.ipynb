{
 "cells": [
  {
   "cell_type": "code",
   "execution_count": 56,
   "metadata": {},
   "outputs": [],
   "source": [
    "import datetime\n",
    "from dateutil import parser\n",
    "from pandas_datareader import data as pdr\n",
    "import fix_yahoo_finance as yf\n",
    "\n",
    "\n",
    "yf.pdr_override()\n",
    "\n",
    "\n",
    "def get_stock_data(date):\n",
    "\n",
    "    yf.pdr_override()\n",
    "\n",
    "    # everything below is hardcoded to one timestamp\n",
    "\n",
    "    # get data from date and prior day\n",
    "    sp500 = pdr.get_data_yahoo(\"^GSPC\",\n",
    "                               start=(parser.parse(date) - datetime.timedelta(1)).strftime('%Y-%m-%d'),\n",
    "                               end=date)\n",
    "\n",
    "    # get key metrics\n",
    "    sp500_return = (sp500.iloc[1].Close -\n",
    "                    sp500.iloc[0].Close) / sp500.iloc[0].Close\n",
    "\n",
    "    sp500_high = sp500.iloc[1].High\n",
    "    sp500_low = sp500.iloc[1].Low\n",
    "\n",
    "    if abs(sp500_return - 0.0) < 0.3:\n",
    "        return 'The S&P500 Index traded up as high as %.2f, and as low as ' \\\n",
    "               '%.2f, but closed flat, returning %.2f%% on the day.' % (sp500_high, sp500_low, sp500_return)\n",
    "    elif sp500_return > 0.0:\n",
    "        return 'The S&P500 Index traded up today, returning %.2f%%. The index traded between' \\\n",
    "               '%.2f and %.2f.' % (sp500_return, sp500_low, sp500_high)\n",
    "    else:\n",
    "        return 'The S&P500 Index traded down today, losing %.2f%%. The index traded between' \\\n",
    "               '%.2f and %.2f.' % (sp500_return, sp500_low, sp500_high)\n",
    "\n",
    "\n",
    "def get_bond_data(date):\n",
    "\n",
    "    # get bond yields for past two days\n",
    "    bond_yields = pdr.FredReader('DGS10',\n",
    "                                 start=(parser.parse(date) - datetime.timedelta(1)).strftime('%Y-%m-%d'),\n",
    "                                 end=date).read()\n",
    "    \n",
    "    curr, prev = bond_yields.iloc[0][0], bond_yields.iloc[1][0]\n",
    "\n",
    "    if curr > prev:\n",
    "        return 'US 10 Year Treasury yields rose to %.2f%% from %.2f%% today.' % (curr, prev)\n",
    "\n",
    "    return 'US 10 Year Treasury yields fell to %.2f%% from %.2f%% today.' % (curr, prev)\n",
    "\n",
    "\n",
    "def get_commodity_data(date):\n",
    "\n",
    "    gold = pdr.FredReader('GOLDAMGBD228NLBM',\n",
    "                          start=(parser.parse(date) - datetime.timedelta(1)).strftime('%Y-%m-%d'),\n",
    "                          end=date).read()\n",
    "    g_curr, g_prev = gold.iloc[0][0], gold.iloc[1][0]\n",
    "\n",
    "    if g_curr > g_prev:\n",
    "        return 'Gold rose to %.2f from %.2f.' % (g_curr, g_prev)\n",
    "\n",
    "    return 'Gold fell to %.2f from %.2f.' % (g_curr, g_prev)\n",
    "\n",
    "\n",
    "def get_daily_activity(date):\n",
    "\n",
    "    return ' '.join([get_stock_data(date),\n",
    "                     get_bond_data(date),\n",
    "                     get_commodity_data(date)])\n"
   ]
  },
  {
   "cell_type": "code",
   "execution_count": null,
   "metadata": {},
   "outputs": [],
   "source": [
    "get_daily_activity('2019-05-02')"
   ]
  },
  {
   "cell_type": "code",
   "execution_count": null,
   "metadata": {},
   "outputs": [],
   "source": [
    "report = 'The S&P500 Index traded up as high as 2931.68, and as low as 2900.50, but closed flat, returning -0.00% on the day. US 10 Year Treasury yields fell to 2.52% from 2.55% today. Gold rose to 1281.80 from 1271.45.'\n",
    "\n",
    "\n"
   ]
  },
  {
   "cell_type": "code",
   "execution_count": null,
   "metadata": {},
   "outputs": [],
   "source": [
    "try:\n",
    "    input_text = get_daily_activity('2019-05-01')\n",
    "    print('1',input_text)\n",
    "except:\n",
    "    input_text = 'The S&P500 Index traded up as high as 2954.13, and as low as 2923.36, but closed flat, returning -0.01% on the day. US 10 Year Treasury yields fell to 2.51% from 2.52% today. Gold rose to 1285.15 from 1281.80.'\n",
    "    print('2',input_text)\n",
    "    pass\n"
   ]
  },
  {
   "cell_type": "code",
   "execution_count": 40,
   "metadata": {},
   "outputs": [
    {
     "data": {
      "text/plain": [
       "pandas_datareader.mstar.daily.MorningstarDailyReader"
      ]
     },
     "execution_count": 40,
     "metadata": {},
     "output_type": "execute_result"
    }
   ],
   "source": [
    "pdr.MorningstarDailyReader"
   ]
  },
  {
   "cell_type": "code",
   "execution_count": 1,
   "metadata": {},
   "outputs": [
    {
     "data": {
      "text/plain": [
       "{'report': '\\n\\nThe yield is not unusual for the US 10-year Treasury, which is a major source of inflation. It has been on an upward trend since its first year of data in 2010.\\n\\nThe S&P 500 has been on a high volume with a 1.67% price index, down 1.3% since the beginning of 2017.\\n\\nThe US 10-year Treasury has gained from its 3-year lows and has a 4.25% yield.\\n\\nThe Dow Jones Industrial Average (DJIA), which has climbed more than 1,000 points in the past three days, ended above 3,000, at 5,000.27. The Nasdaq Composite (IXIC), which has climbed more than 5',\n",
       " 'url': 'https://plot.ly/~TMSDNE/12'}"
      ]
     },
     "execution_count": 1,
     "metadata": {},
     "output_type": "execute_result"
    }
   ],
   "source": [
    "# %%time\n",
    "\n",
    "import requests, json\n",
    "url = \"https://tms-env.t9yb28hdar.us-east-2.elasticbeanstalk.com/\"\n",
    "data = {'date': '2019-05-01'}\n",
    "\n",
    "r = requests.post(url, data=json.dumps(data))\n",
    "r.json()"
   ]
  },
  {
   "cell_type": "code",
   "execution_count": 12,
   "metadata": {},
   "outputs": [
    {
     "ename": "NameError",
     "evalue": "name 'r' is not defined",
     "output_type": "error",
     "traceback": [
      "\u001b[0;31m---------------------------------------------------------------------------\u001b[0m",
      "\u001b[0;31mNameError\u001b[0m                                 Traceback (most recent call last)",
      "\u001b[0;32m<ipython-input-12-1678a029e062>\u001b[0m in \u001b[0;36m<module>\u001b[0;34m\u001b[0m\n\u001b[1;32m      2\u001b[0m \u001b[0;31m#5 - 2 min\u001b[0m\u001b[0;34m\u001b[0m\u001b[0;34m\u001b[0m\u001b[0;34m\u001b[0m\u001b[0m\n\u001b[1;32m      3\u001b[0m \u001b[0;34m\u001b[0m\u001b[0m\n\u001b[0;32m----> 4\u001b[0;31m \u001b[0mr\u001b[0m\u001b[0;34m.\u001b[0m\u001b[0mjson\u001b[0m\u001b[0;34m(\u001b[0m\u001b[0;34m)\u001b[0m\u001b[0;34m\u001b[0m\u001b[0;34m\u001b[0m\u001b[0m\n\u001b[0m",
      "\u001b[0;31mNameError\u001b[0m: name 'r' is not defined"
     ]
    }
   ],
   "source": [
    "#40 - 2min\n",
    "#5 - 2 min\n",
    "\n",
    "r.json()"
   ]
  },
  {
   "cell_type": "code",
   "execution_count": 74,
   "metadata": {},
   "outputs": [
    {
     "data": {
      "text/plain": [
       "\" The S&P 500 traded up 1.8% to an all-time high of 4,500.\\n\\nThe Dow Jones Industrial Average closed up 0.1% to 2,100.08 from 2,099.08. It closed down 0.1% to 0.11 from 0.12.\\n\\nOn Sustainability, the Fed's latest economic news from Washington, D.C., was a bit of a surprise. The Fed's last-minute announcement of a $3.5 trillion increase in interest rates was only three years ago. The Fed's announcement last week of a $2.5 trillion increase in interest rates comes as the Fed's next major policy announcement will be a major one.\\n\\nThe Dow fell 1.1% for the day against the Nasdaq Composite. The Dow fell 5.2% for the day against the S&P 500 index. The S&P 500 index closed down 0.7% to 1,100.32. It closed down 0.8% to 1,250.10.\\n\\nOn the housing market, as the Dow has fallen since the financial crisis, the housing market is back up and running. The S&P 500 Index moved up 0.3% to 14,320.10. The Nasdaq Composite Index moved up 0.4% to 14,934.10. The Dow closed up 0.5% to 14,926.15.\\n\\nOn the housing market as a whole, the S&P 500 Index rose 0.3% to 12,819.50. The S&P 500 index closed down 0.2% to 12,841.10. The Dow closed up 0.3% to 11,817.25.\\n\\nOn the energy sector, the Dow was up 0.4% to 12,927.50. The S&P 500 Index increased 0.2% to 12,819.50. The Dow lost -0.1% to 12,817.30.\\n\\nOn the environment, the Dow closed up 0.6% to 1,063.50. The S&P 500 Index moved up 0.3% to 1,070.25. The Dow closed down 0.4% to 1,099.50.\\n\\nOn healthcare, the Dow was up 0.4% to 12,942.10. The S&P 500 Index increased 0.2% to 12,\""
      ]
     },
     "execution_count": 74,
     "metadata": {},
     "output_type": "execute_result"
    }
   ],
   "source": [
    "r.text"
   ]
  },
  {
   "cell_type": "code",
   "execution_count": null,
   "metadata": {},
   "outputs": [],
   "source": [
    "[\"The S&P500 is not the only currency to lose confidence.The US dollar strengthened 0.1% to US$1.2422.\",\n",
    " \" The value of gold is not affected by the S&P500's negative trading, said Michael B. Stern, chief investment officer of Gold & Co., in a statement. \",\n",
    " \"The S&P500 is a solid performer, but it is also an extremely volatile asset. S&P500s are also sensitive to price change. Many investors are looking for a new or even lower gold price to settle down their portfolios.\", \n",
    "\" The S&P 500 traded up 1.8% to an all-time high of 4,500. The Dow Jones Industrial Average closed up 0.1% to 2,100.08 from 2,099.08.\",\n",
    " \"It closed down 0.1% to 0.11 from 0.12. On Sustainability, the Fed's latest economic news from Washington, D.C., was a bit of a surprise.\",\n",
    " \" The Fed's last-minute announcement of a $3.5 trillion increase in interest rates was only three years ago. The Fed's announcement last week of a $2.5 trillion increase in interest rates comes as the Fed's next major policy announcement will be a major one.\",\n",
    " \"The Dow fell 1.1% for the day against the Nasdaq Composite. The Dow fell 5.2% for the day against the S&P 500 index. The S&P 500 index closed down 0.7% to 1,100.32.\", \n",
    " \"It closed down 0.8% to 1,250.10. On the housing market, as the Dow has fallen since the financial crisis, the housing market is back up and running. The S&P 500 Index moved up 0.3% to 14,320.10.\",\n",
    " \" The Nasdaq Composite Index moved up 0.4% to 14,934.10. The Dow closed up 0.5% to 14,926.15. On the housing market as a whole, the S&P 500 Index rose 0.3% to 12,819.50. The S&P 500 index closed down 0.2% to 12,841.10.\",\n",
    " \"The Dow closed up 0.3% to 11,817.25. On the energy sector, the Dow was up 0.4% to 12,927.50. The S&P 500 Index increased 0.2% to 12,819.50. The Dow lost -0.1% to 12,817.30. On the environment, the Dow closed up 0.6% to 1,063.50.\",\n",
    " \" The S&P 500 Index moved up 0.3% to 1,070.25. The Dow closed down 0.4% to 1,099.50. On healthcare, the Dow was up 0.4% to 12,942.10. The S&P 500 Index increased 0.2% to 12\", \n",
    "\"On the news, the Dow Jones Industrial Average (DJIA) closed up 1.6% at 2,931.53. On Wall Street, the Nasdaq Composite (IXIC) closed up 1.1% at 2,873.12.\",\n",
    " \" FTSEurobarometer's Brent Eurozone Sense Index fell to 0.85, and the euro zone's other major index fell, at 2.17%. The US 10 Year Treasury Index and the Japanese 10 Year Japan Sense Index closed below their all-time high highs.\",\n",
    "\"The Dow Jones Industrial Average hit its highest level since July 2007 with 2,741.87, down 3.49%. The Nasdaq Composite Index closed at 6,929.50 a share. The S&P 500 Index closed at 6,858.28, down 3.34%\"\"]"
   ]
  },
  {
   "cell_type": "code",
   "execution_count": null,
   "metadata": {},
   "outputs": [],
   "source": [
    "\n",
    "\"The Dow Jones Industrial Average hit its highest level since July 2007 with 2,741.87, down 3.49%.\n",
    "\n",
    "The Nasdaq Composite Index closed at 6,929.50 a share. The S&P 500 Index closed at 6,858.28, down 3.34%\""
   ]
  }
 ],
 "metadata": {
  "kernelspec": {
   "display_name": "Python 3",
   "language": "python",
   "name": "python3"
  },
  "language_info": {
   "codemirror_mode": {
    "name": "ipython",
    "version": 3
   },
   "file_extension": ".py",
   "mimetype": "text/x-python",
   "name": "python",
   "nbconvert_exporter": "python",
   "pygments_lexer": "ipython3",
   "version": "3.7.3"
  }
 },
 "nbformat": 4,
 "nbformat_minor": 2
}
